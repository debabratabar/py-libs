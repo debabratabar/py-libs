{
 "cells": [
  {
   "cell_type": "code",
   "execution_count": 1,
   "id": "90a24e82-b886-4964-93b7-138ccca5c197",
   "metadata": {},
   "outputs": [],
   "source": [
    "import pandas as pd"
   ]
  },
  {
   "cell_type": "code",
   "execution_count": 22,
   "id": "b076e09a-0dae-4ed5-b299-3ab4ccef6910",
   "metadata": {},
   "outputs": [
    {
     "data": {
      "text/html": [
       "<div>\n",
       "<style scoped>\n",
       "    .dataframe tbody tr th:only-of-type {\n",
       "        vertical-align: middle;\n",
       "    }\n",
       "\n",
       "    .dataframe tbody tr th {\n",
       "        vertical-align: top;\n",
       "    }\n",
       "\n",
       "    .dataframe thead th {\n",
       "        text-align: right;\n",
       "    }\n",
       "</style>\n",
       "<table border=\"1\" class=\"dataframe\">\n",
       "  <thead>\n",
       "    <tr style=\"text-align: right;\">\n",
       "      <th></th>\n",
       "      <th>tickers</th>\n",
       "      <th>eps</th>\n",
       "      <th>revenue</th>\n",
       "      <th>price</th>\n",
       "      <th>people</th>\n",
       "    </tr>\n",
       "  </thead>\n",
       "  <tbody>\n",
       "    <tr>\n",
       "      <th>0</th>\n",
       "      <td>GOOGL</td>\n",
       "      <td>27.82</td>\n",
       "      <td>87</td>\n",
       "      <td>845</td>\n",
       "      <td>larry page</td>\n",
       "    </tr>\n",
       "    <tr>\n",
       "      <th>1</th>\n",
       "      <td>WMT</td>\n",
       "      <td>4.61</td>\n",
       "      <td>484</td>\n",
       "      <td>65</td>\n",
       "      <td>n.a.</td>\n",
       "    </tr>\n",
       "    <tr>\n",
       "      <th>2</th>\n",
       "      <td>MSFT</td>\n",
       "      <td>-1</td>\n",
       "      <td>85</td>\n",
       "      <td>64</td>\n",
       "      <td>bill gates</td>\n",
       "    </tr>\n",
       "    <tr>\n",
       "      <th>3</th>\n",
       "      <td>RIL</td>\n",
       "      <td>not available</td>\n",
       "      <td>50</td>\n",
       "      <td>1023</td>\n",
       "      <td>mukesh ambani</td>\n",
       "    </tr>\n",
       "    <tr>\n",
       "      <th>4</th>\n",
       "      <td>TATA</td>\n",
       "      <td>5.6</td>\n",
       "      <td>-1</td>\n",
       "      <td>n.a.</td>\n",
       "      <td>ratan tata</td>\n",
       "    </tr>\n",
       "  </tbody>\n",
       "</table>\n",
       "</div>"
      ],
      "text/plain": [
       "  tickers            eps  revenue price         people\n",
       "0   GOOGL          27.82       87   845     larry page\n",
       "1     WMT           4.61      484    65           n.a.\n",
       "2    MSFT             -1       85    64     bill gates\n",
       "3    RIL   not available       50  1023  mukesh ambani\n",
       "4    TATA            5.6       -1  n.a.     ratan tata"
      ]
     },
     "execution_count": 22,
     "metadata": {},
     "output_type": "execute_result"
    }
   ],
   "source": [
    "stock_data = pd.read_excel('stock_data.xlsx' , 'Sheet1')\n",
    "stock_data"
   ]
  },
  {
   "cell_type": "code",
   "execution_count": 20,
   "id": "2117c47e-3e7e-4775-afec-d77556b49156",
   "metadata": {},
   "outputs": [
    {
     "data": {
      "text/plain": [
       "tickers     object\n",
       "eps         object\n",
       "revenue    float64\n",
       "price       object\n",
       "people      object\n",
       "dtype: object"
      ]
     },
     "execution_count": 20,
     "metadata": {},
     "output_type": "execute_result"
    }
   ],
   "source": [
    "stock_data.dtypes"
   ]
  },
  {
   "cell_type": "code",
   "execution_count": 2,
   "id": "4f332e3e-6e39-49cf-b7ed-5248581b09ef",
   "metadata": {},
   "outputs": [
    {
     "data": {
      "text/html": [
       "<div>\n",
       "<style scoped>\n",
       "    .dataframe tbody tr th:only-of-type {\n",
       "        vertical-align: middle;\n",
       "    }\n",
       "\n",
       "    .dataframe tbody tr th {\n",
       "        vertical-align: top;\n",
       "    }\n",
       "\n",
       "    .dataframe thead th {\n",
       "        text-align: right;\n",
       "    }\n",
       "</style>\n",
       "<table border=\"1\" class=\"dataframe\">\n",
       "  <thead>\n",
       "    <tr style=\"text-align: right;\">\n",
       "      <th></th>\n",
       "      <th>tickers</th>\n",
       "      <th>eps</th>\n",
       "      <th>revenue</th>\n",
       "      <th>price</th>\n",
       "      <th>people</th>\n",
       "    </tr>\n",
       "  </thead>\n",
       "  <tbody>\n",
       "    <tr>\n",
       "      <th>0</th>\n",
       "      <td>GOOGL</td>\n",
       "      <td>27.82</td>\n",
       "      <td>87</td>\n",
       "      <td>845</td>\n",
       "      <td>larry page</td>\n",
       "    </tr>\n",
       "    <tr>\n",
       "      <th>1</th>\n",
       "      <td>WMT</td>\n",
       "      <td>4.61</td>\n",
       "      <td>484</td>\n",
       "      <td>65</td>\n",
       "      <td>Doug McMillon</td>\n",
       "    </tr>\n",
       "    <tr>\n",
       "      <th>2</th>\n",
       "      <td>MSFT</td>\n",
       "      <td>0.00</td>\n",
       "      <td>85</td>\n",
       "      <td>64</td>\n",
       "      <td>bill gates</td>\n",
       "    </tr>\n",
       "    <tr>\n",
       "      <th>3</th>\n",
       "      <td>RIL</td>\n",
       "      <td>0.00</td>\n",
       "      <td>50</td>\n",
       "      <td>1023</td>\n",
       "      <td>mukesh ambani</td>\n",
       "    </tr>\n",
       "    <tr>\n",
       "      <th>4</th>\n",
       "      <td>TATA</td>\n",
       "      <td>5.60</td>\n",
       "      <td>0</td>\n",
       "      <td>0</td>\n",
       "      <td>ratan tata</td>\n",
       "    </tr>\n",
       "  </tbody>\n",
       "</table>\n",
       "</div>"
      ],
      "text/plain": [
       "  tickers    eps  revenue  price         people\n",
       "0   GOOGL  27.82       87    845     larry page\n",
       "1     WMT   4.61      484     65  Doug McMillon\n",
       "2    MSFT   0.00       85     64     bill gates\n",
       "3    RIL    0.00       50   1023  mukesh ambani\n",
       "4    TATA   5.60        0      0     ratan tata"
      ]
     },
     "execution_count": 2,
     "metadata": {},
     "output_type": "execute_result"
    }
   ],
   "source": [
    "# use converters to conversion\n",
    "\n",
    "def eps_converters(cell):\n",
    "    if isinstance(cell , ( int, float )  ) :\n",
    "        if cell < 0: \n",
    "            return 0\n",
    "        else:\n",
    "            return cell \n",
    "    else:\n",
    "        return 0\n",
    "\n",
    "def revn_converters(cell):\n",
    "     if isinstance(cell , ( int, float )  ) :\n",
    "        if cell < 0: \n",
    "            return 0\n",
    "        else:\n",
    "            return cell \n",
    "     else:\n",
    "        return 0\n",
    "    \n",
    "def ppl_converters(cell):\n",
    "    if cell == 'n.a.':\n",
    "        return 'Doug McMillon'\n",
    "    return cell\n",
    "\n",
    "def price_converters(cell):\n",
    "    if isinstance(cell , ( int, float )  ) :\n",
    "        if cell < 0: \n",
    "            return 0\n",
    "        else:\n",
    "            return cell \n",
    "    else:\n",
    "        return 0\n",
    "\n",
    "\n",
    "stock_data = pd.read_excel('stock_data.xlsx' , 'Sheet1' , converters= {\n",
    "    'eps' : eps_converters , \n",
    "    'revenue' : revn_converters ,\n",
    "    'people' : ppl_converters ,\n",
    "    'price' : price_converters \n",
    "})\n",
    "\n",
    "stock_data\n",
    "\n"
   ]
  },
  {
   "cell_type": "code",
   "execution_count": 34,
   "id": "63750df2-37a0-4273-b0be-e9c1ac961e7f",
   "metadata": {},
   "outputs": [],
   "source": [
    "stock_data.to_excel('tr1_excel.xlsx' , sheet_name='cleaned_stock_data' , index=False , )"
   ]
  },
  {
   "cell_type": "code",
   "execution_count": 3,
   "id": "50cee0cc-0582-4bd6-b8d7-9830202f1363",
   "metadata": {},
   "outputs": [],
   "source": [
    "stock_eps_data = stock_data[ ['tickers' , 'eps' ] ]\n",
    "stock_rvn_data = stock_data[ ['tickers' , 'revenue' ] ]\n",
    "stock_price_data = stock_data[ ['tickers' , 'price' ] ]\n",
    "# stock_eps_data"
   ]
  },
  {
   "cell_type": "code",
   "execution_count": 40,
   "id": "687cd903-cb9e-4d08-a027-2c05077eca46",
   "metadata": {},
   "outputs": [],
   "source": [
    "# write multiple tab in excel \n",
    "with pd.ExcelWriter('stock_summ.xlsx') as writer:\n",
    "    stock_data.to_excel(writer, sheet_name='cleaned_stock_data' , index=False)\n",
    "    stock_eps_data.to_excel(writer, sheet_name='stock_eps_data' , index=False)\n",
    "    stock_rvn_data.to_excel(writer, sheet_name='stock_rvn_data' , index=False)\n",
    "    stock_price_data.to_excel(writer, sheet_name='stock_price_data' , index=False)"
   ]
  }
 ],
 "metadata": {
  "kernelspec": {
   "display_name": "Python 3 (ipykernel)",
   "language": "python",
   "name": "python3"
  },
  "language_info": {
   "codemirror_mode": {
    "name": "ipython",
    "version": 3
   },
   "file_extension": ".py",
   "mimetype": "text/x-python",
   "name": "python",
   "nbconvert_exporter": "python",
   "pygments_lexer": "ipython3",
   "version": "3.11.7"
  }
 },
 "nbformat": 4,
 "nbformat_minor": 5
}
